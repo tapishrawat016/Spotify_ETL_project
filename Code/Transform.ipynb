{
 "cells": [
  {
   "cell_type": "code",
   "outputs": [],
   "source": [
    "from pyspark.sql import SparkSession"
   ],
   "metadata": {
    "collapsed": false
   },
   "id": "467516e9ba598810"
  },
  {
   "cell_type": "code",
   "outputs": [],
   "source": [
    "import pyspark.sql.functions as func"
   ],
   "metadata": {
    "collapsed": false,
    "ExecuteTime": {
     "end_time": "2024-03-24T14:35:39.867345Z",
     "start_time": "2024-03-24T14:35:39.854298Z"
    }
   },
   "id": "41f4156156f04cde",
   "execution_count": 2
  },
  {
   "cell_type": "code",
   "outputs": [],
   "source": [
    "from pyspark.sql.types import StructType, StructField, StringType, IntegerType, BooleanType , FloatType, LongType"
   ],
   "metadata": {
    "collapsed": false,
    "ExecuteTime": {
     "end_time": "2024-03-24T14:35:39.883436Z",
     "start_time": "2024-03-24T14:35:39.869346Z"
    }
   },
   "id": "d44d692cb5bb8e68",
   "execution_count": 3
  },
  {
   "cell_type": "code",
   "outputs": [],
   "source": [
    "spark= SparkSession.builder\\\n",
    "    .appName('spotify_de') \\\n",
    "    .getOrCreate()"
   ],
   "metadata": {
    "collapsed": false,
    "ExecuteTime": {
     "end_time": "2024-03-24T14:35:44.605014Z",
     "start_time": "2024-03-24T14:35:39.884475Z"
    }
   },
   "id": "d50577196ce2f852",
   "execution_count": 4
  },
  {
   "cell_type": "code",
   "outputs": [],
   "source": [
    "json_schema = StructType([\n",
    "    StructField(\"artists\", StringType(), False),\n",
    "    StructField(\"duration_ms\", LongType(), False),\n",
    "    StructField(\"popularity\", IntegerType(), False),\n",
    "    StructField(\"song_name\", StringType(), False),\n",
    "    StructField(\"song_preview\", StringType(), False)\n",
    "])"
   ],
   "metadata": {
    "collapsed": false,
    "ExecuteTime": {
     "end_time": "2024-03-24T14:35:44.620036Z",
     "start_time": "2024-03-24T14:35:44.608001Z"
    }
   },
   "id": "1536a346b3ba5373",
   "execution_count": 5
  },
  {
   "cell_type": "code",
   "outputs": [],
   "source": [
    "json_df= spark.read \\\n",
    "    .schema(json_schema)\\\n",
    "  .json(r\"C:\\Users\\tapis\\PycharmProjects\\Spotify_project\\API_DATA_CLEAN\\final.json\")\\\n",
    "  "
   ],
   "metadata": {
    "collapsed": false,
    "ExecuteTime": {
     "end_time": "2024-03-24T14:35:46.943903Z",
     "start_time": "2024-03-24T14:35:44.622561Z"
    }
   },
   "id": "c7e69948bc0da6e6",
   "execution_count": 6
  },
  {
   "cell_type": "code",
   "outputs": [],
   "source": [
    "json_df= json_df.withColumn(\"duration\", func.round(json_df.duration_ms/60000,1))"
   ],
   "metadata": {
    "collapsed": false,
    "ExecuteTime": {
     "end_time": "2024-03-24T14:35:47.086161Z",
     "start_time": "2024-03-24T14:35:46.945898Z"
    }
   },
   "id": "795da5836f11ef64",
   "execution_count": 7
  },
  {
   "cell_type": "code",
   "outputs": [],
   "source": [
    "json_df.createOrReplaceTempView(\"Songs_table\")"
   ],
   "metadata": {
    "collapsed": false,
    "ExecuteTime": {
     "end_time": "2024-03-24T14:35:47.506856Z",
     "start_time": "2024-03-24T14:35:47.087130Z"
    }
   },
   "id": "319ce974f7bce481",
   "execution_count": 8
  },
  {
   "cell_type": "code",
   "outputs": [],
   "source": [
    "selected_df = spark.sql(\"SELECT *, dense_rank() over(order by popularity desc) as rank_on_chart FROM Songs_table\")"
   ],
   "metadata": {
    "collapsed": false,
    "ExecuteTime": {
     "end_time": "2024-03-24T14:35:47.695548Z",
     "start_time": "2024-03-24T14:35:47.508844Z"
    }
   },
   "id": "a45d0c4d4c5b9113",
   "execution_count": 9
  },
  {
   "cell_type": "code",
   "outputs": [],
   "source": [
    "selected_df.write.mode(\"overwrite\").parquet(\"C:/Users/tapis/PycharmProjects/Spotify_project/API_DATA_CLEAN/final.parquet\")"
   ],
   "metadata": {
    "collapsed": false,
    "ExecuteTime": {
     "end_time": "2024-03-24T14:36:35.364006Z",
     "start_time": "2024-03-24T14:36:34.084868Z"
    }
   },
   "id": "81f89402f73a037b",
   "execution_count": 12
  },
  {
   "cell_type": "code",
   "outputs": [
    {
     "name": "stdout",
     "output_type": "stream",
     "text": [
      "root\n",
      " |-- artists: string (nullable = true)\n",
      " |-- duration_ms: long (nullable = true)\n",
      " |-- popularity: integer (nullable = true)\n",
      " |-- song_name: string (nullable = true)\n",
      " |-- song_preview: string (nullable = true)\n",
      " |-- duration: double (nullable = true)\n",
      " |-- rank_on_chart: integer (nullable = false)\n"
     ]
    }
   ],
   "source": [
    "selected_df.printSchema()"
   ],
   "metadata": {
    "collapsed": false,
    "ExecuteTime": {
     "end_time": "2024-03-24T15:36:37.538600Z",
     "start_time": "2024-03-24T15:36:37.515257Z"
    }
   },
   "id": "7b28c3313a043c5a",
   "execution_count": 17
  },
  {
   "cell_type": "code",
   "outputs": [
    {
     "data": {
      "text/plain": "'{\"fields\":[{\"metadata\":{},\"name\":\"artists\",\"nullable\":true,\"type\":\"string\"},{\"metadata\":{},\"name\":\"duration_ms\",\"nullable\":true,\"type\":\"long\"},{\"metadata\":{},\"name\":\"popularity\",\"nullable\":true,\"type\":\"integer\"},{\"metadata\":{},\"name\":\"song_name\",\"nullable\":true,\"type\":\"string\"},{\"metadata\":{},\"name\":\"song_preview\",\"nullable\":true,\"type\":\"string\"},{\"metadata\":{},\"name\":\"duration\",\"nullable\":true,\"type\":\"double\"}],\"type\":\"struct\"}'"
     },
     "execution_count": 16,
     "metadata": {},
     "output_type": "execute_result"
    }
   ],
   "source": [
    "json_df.schema.json()"
   ],
   "metadata": {
    "collapsed": false,
    "ExecuteTime": {
     "end_time": "2024-03-24T14:50:45.227362Z",
     "start_time": "2024-03-24T14:50:45.203733Z"
    }
   },
   "id": "7d493b74e4b1b132",
   "execution_count": 16
  },
  {
   "cell_type": "code",
   "outputs": [],
   "source": [],
   "metadata": {
    "collapsed": false,
    "ExecuteTime": {
     "end_time": "2024-03-24T14:35:50.121758Z",
     "start_time": "2024-03-24T14:35:50.107161Z"
    }
   },
   "id": "fe8065d8c7be60a2",
   "execution_count": 11
  },
  {
   "cell_type": "code",
   "outputs": [],
   "source": [],
   "metadata": {
    "collapsed": false,
    "ExecuteTime": {
     "end_time": "2024-03-24T14:35:50.137736Z",
     "start_time": "2024-03-24T14:35:50.125272Z"
    }
   },
   "id": "bfad4dc4bb304c31",
   "execution_count": 11
  }
 ],
 "metadata": {
  "kernelspec": {
   "display_name": "Python 3",
   "language": "python",
   "name": "python3"
  },
  "language_info": {
   "codemirror_mode": {
    "name": "ipython",
    "version": 2
   },
   "file_extension": ".py",
   "mimetype": "text/x-python",
   "name": "python",
   "nbconvert_exporter": "python",
   "pygments_lexer": "ipython2",
   "version": "2.7.6"
  }
 },
 "nbformat": 4,
 "nbformat_minor": 5
}
